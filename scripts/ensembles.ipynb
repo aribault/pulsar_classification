{
 "cells": [
  {
   "cell_type": "code",
   "execution_count": 1,
   "metadata": {},
   "outputs": [],
   "source": [
    "import pandas as pd\n",
    "from matplotlib import pyplot as plt\n",
    "import matplotlib\n",
    "import os\n",
    "import seaborn as sns\n",
    "import numpy as np\n",
    "from joblib import dump, load"
   ]
  },
  {
   "cell_type": "code",
   "execution_count": 2,
   "metadata": {},
   "outputs": [],
   "source": [
    "data_folder = \"../data\"\n",
    "model_folder = \"../models\"\n",
    "train_file = \"train_data.csv\"\n",
    "train_data = pd.read_csv(os.path.join(data_folder, train_file))\n",
    "np.random.seed(2308723)\n",
    "random_state = 84738"
   ]
  },
  {
   "cell_type": "code",
   "execution_count": 3,
   "metadata": {},
   "outputs": [],
   "source": [
    "X_train = train_data.values[:, :-1]\n",
    "y_train = train_data.values[:, -1]"
   ]
  },
  {
   "cell_type": "code",
   "execution_count": 4,
   "metadata": {},
   "outputs": [
    {
     "name": "stdout",
     "output_type": "stream",
     "text": [
      "(14318, 8)\n"
     ]
    }
   ],
   "source": [
    "from sklearn.decomposition import PCA\n",
    "pca = PCA(n_components=2)\n",
    "print(X_train.shape)\n",
    "X_train_pca = pca.fit_transform(X_train)"
   ]
  },
  {
   "cell_type": "code",
   "execution_count": 5,
   "metadata": {},
   "outputs": [],
   "source": [
    "from sklearn.preprocessing import StandardScaler\n",
    "\n",
    "scaler = StandardScaler()\n",
    "X_train_scaled = scaler.fit_transform(X_train)"
   ]
  },
  {
   "cell_type": "code",
   "execution_count": 8,
   "metadata": {},
   "outputs": [],
   "source": [
    "models = {}\n",
    "for model_file in os.listdir(model_folder):\n",
    "    model_filepath = os.path.join(model_folder, model_file)\n",
    "    model_name = model_file.split(\".\")[0]\n",
    "    model = load(model_filepath)\n",
    "    models[model_name] = model"
   ]
  },
  {
   "cell_type": "code",
   "execution_count": 15,
   "metadata": {},
   "outputs": [],
   "source": [
    "from sklearn.model_selection import cross_validate\n",
    "\n",
    "def get_cv_scores(model_name, use_scaled=True):\n",
    "    train_data = X_train_scaled\n",
    "    if \"rf\" in model_name:\n",
    "        train_data = X_train\n",
    "    model = models[model_name]\n",
    "    cv_scores = cross_validate(model, train_data, y_train, scoring=[\"f1\", \"accuracy\"], verbose=1, n_jobs=-1, cv=5)\n",
    "    return cv_scores"
   ]
  },
  {
   "cell_type": "code",
   "execution_count": 16,
   "metadata": {},
   "outputs": [
    {
     "data": {
      "text/plain": [
       "dict_keys(['adab_clf', 'log_reg', 'rf_best', 'svc', 'xgb'])"
      ]
     },
     "execution_count": 16,
     "metadata": {},
     "output_type": "execute_result"
    }
   ],
   "source": [
    "models.keys()"
   ]
  },
  {
   "cell_type": "code",
   "execution_count": 19,
   "metadata": {},
   "outputs": [
    {
     "name": "stderr",
     "output_type": "stream",
     "text": [
      "[Parallel(n_jobs=-1)]: Using backend LokyBackend with 4 concurrent workers.\n",
      "[Parallel(n_jobs=-1)]: Done   5 out of   5 | elapsed:   33.1s finished\n"
     ]
    },
    {
     "data": {
      "text/plain": [
       "{'fit_time': array([16.60644817, 16.55846334, 16.63048053, 16.92456365, 14.01868105]),\n",
       " 'score_time': array([0.31401443, 0.33800697, 0.39705086, 0.3509872 , 0.21794176]),\n",
       " 'test_f1': array([0.90485437, 0.87698413, 0.90019569, 0.89788054, 0.87058824]),\n",
       " 'test_accuracy': array([0.98289106, 0.97835196, 0.98219274, 0.98148795, 0.97694726])}"
      ]
     },
     "execution_count": 19,
     "metadata": {},
     "output_type": "execute_result"
    }
   ],
   "source": [
    "get_cv_scores(\"xgb\")"
   ]
  },
  {
   "cell_type": "code",
   "execution_count": 20,
   "metadata": {},
   "outputs": [
    {
     "name": "stderr",
     "output_type": "stream",
     "text": [
      "[Parallel(n_jobs=-1)]: Using backend LokyBackend with 4 concurrent workers.\n",
      "[Parallel(n_jobs=-1)]: Done   5 out of   5 | elapsed:   43.1s finished\n",
      "[Parallel(n_jobs=-1)]: Using backend LokyBackend with 4 concurrent workers.\n"
     ]
    },
    {
     "name": "stdout",
     "output_type": "stream",
     "text": [
      "adab_clf has cv f1_score 0.8872826382437538\n"
     ]
    },
    {
     "name": "stderr",
     "output_type": "stream",
     "text": [
      "[Parallel(n_jobs=-1)]: Done   5 out of   5 | elapsed:    0.4s finished\n",
      "[Parallel(n_jobs=-1)]: Using backend LokyBackend with 4 concurrent workers.\n"
     ]
    },
    {
     "name": "stdout",
     "output_type": "stream",
     "text": [
      "log_reg has cv f1_score 0.8791640563340133\n"
     ]
    },
    {
     "name": "stderr",
     "output_type": "stream",
     "text": [
      "[Parallel(n_jobs=-1)]: Done   5 out of   5 | elapsed:   46.0s finished\n",
      "[Parallel(n_jobs=-1)]: Using backend LokyBackend with 4 concurrent workers.\n"
     ]
    },
    {
     "name": "stdout",
     "output_type": "stream",
     "text": [
      "rf_best has cv f1_score 0.885586915895256\n"
     ]
    },
    {
     "name": "stderr",
     "output_type": "stream",
     "text": [
      "[Parallel(n_jobs=-1)]: Done   5 out of   5 | elapsed:    1.0s finished\n",
      "[Parallel(n_jobs=-1)]: Using backend LokyBackend with 4 concurrent workers.\n"
     ]
    },
    {
     "name": "stdout",
     "output_type": "stream",
     "text": [
      "svc has cv f1_score 0.8861500309538975\n",
      "xgb has cv f1_score 0.8901005930851124\n"
     ]
    },
    {
     "name": "stderr",
     "output_type": "stream",
     "text": [
      "[Parallel(n_jobs=-1)]: Done   5 out of   5 | elapsed:   30.8s finished\n"
     ]
    }
   ],
   "source": [
    "for model_name in models.keys():\n",
    "    cv_score = np.mean(get_cv_scores(model_name)[\"test_f1\"])\n",
    "    print(f\"{model_name} has cv f1_score {cv_score}\")"
   ]
  },
  {
   "cell_type": "markdown",
   "metadata": {},
   "source": [
    "# Voting Classifier"
   ]
  },
  {
   "cell_type": "code",
   "execution_count": 37,
   "metadata": {},
   "outputs": [
    {
     "name": "stderr",
     "output_type": "stream",
     "text": [
      "[Parallel(n_jobs=-1)]: Using backend LokyBackend with 4 concurrent workers.\n",
      "[Parallel(n_jobs=-1)]: Done   5 out of   5 | elapsed:  1.6min finished\n",
      "[Parallel(n_jobs=-1)]: Using backend LokyBackend with 4 concurrent workers.\n",
      "[Parallel(n_jobs=-1)]: Done   5 out of   5 | elapsed:   47.7s finished\n",
      "[Parallel(n_jobs=-1)]: Using backend LokyBackend with 4 concurrent workers.\n",
      "[Parallel(n_jobs=-1)]: Done   5 out of   5 | elapsed:  1.3min finished\n",
      "[Parallel(n_jobs=-1)]: Using backend LokyBackend with 4 concurrent workers.\n",
      "[Parallel(n_jobs=-1)]: Done   5 out of   5 | elapsed:  1.6min finished\n",
      "[Parallel(n_jobs=-1)]: Using backend LokyBackend with 4 concurrent workers.\n",
      "[Parallel(n_jobs=-1)]: Done   5 out of   5 | elapsed:  2.0min finished\n",
      "[Parallel(n_jobs=-1)]: Using backend LokyBackend with 4 concurrent workers.\n",
      "[Parallel(n_jobs=-1)]: Done   5 out of   5 | elapsed:  1.3min finished\n",
      "[Parallel(n_jobs=-1)]: Using backend LokyBackend with 4 concurrent workers.\n",
      "[Parallel(n_jobs=-1)]: Done   5 out of   5 | elapsed:   50.5s finished\n",
      "[Parallel(n_jobs=-1)]: Using backend LokyBackend with 4 concurrent workers.\n",
      "[Parallel(n_jobs=-1)]: Done   5 out of   5 | elapsed:  1.2min finished\n",
      "[Parallel(n_jobs=-1)]: Using backend LokyBackend with 4 concurrent workers.\n",
      "[Parallel(n_jobs=-1)]: Done   5 out of   5 | elapsed:   31.6s finished\n",
      "[Parallel(n_jobs=-1)]: Using backend LokyBackend with 4 concurrent workers.\n",
      "[Parallel(n_jobs=-1)]: Done   5 out of   5 | elapsed:  1.3min finished\n",
      "[Parallel(n_jobs=-1)]: Using backend LokyBackend with 4 concurrent workers.\n",
      "[Parallel(n_jobs=-1)]: Done   5 out of   5 | elapsed:  2.0min finished\n"
     ]
    }
   ],
   "source": [
    "from itertools import combinations\n",
    "from sklearn.ensemble import VotingClassifier\n",
    "\n",
    "estimators_combinations = []\n",
    "voting_perf_dict = {}\n",
    "\n",
    "for nb_estimators in (3, 5):\n",
    "    estimator_names = [list(i) for i in combinations(models.keys(), nb_estimators)]\n",
    "    estimators_combinations += [[(name, models[name]) for name in estimators_names_combination] for estimators_names_combination in estimator_names]\n",
    "    \n",
    "for combination in estimators_combinations:\n",
    "    combination_names = \"\"\n",
    "    for name, _ in combination:\n",
    "        combination_names += f\"{name} + \"\n",
    "    combination_names = combination_names[:-3]\n",
    "    voting_clf = VotingClassifier(combination, voting='hard')\n",
    "    train_data = X_train_scaled\n",
    "    cv_scores = cross_validate(voting_clf, train_data, y_train, scoring=[\"f1\", \"accuracy\"], verbose=1, n_jobs=-1, cv=5)\n",
    "    voting_perf_dict[combination_names] = cv_scores['test_f1']"
   ]
  },
  {
   "cell_type": "code",
   "execution_count": 38,
   "metadata": {},
   "outputs": [
    {
     "data": {
      "text/plain": [
       "{'adab_clf + log_reg + rf_best': array([0.90039841, 0.87626775, 0.89068826, 0.9015748 , 0.87250996]),\n",
       " 'adab_clf + log_reg + svc': array([0.90140845, 0.87169043, 0.89205703, 0.90335306, 0.87374749]),\n",
       " 'adab_clf + log_reg + xgb': array([0.90551181, 0.87726358, 0.89820359, 0.8984375 , 0.87301587]),\n",
       " 'adab_clf + rf_best + svc': array([0.9       , 0.8699187 , 0.88617886, 0.90118577, 0.8742515 ]),\n",
       " 'adab_clf + rf_best + xgb': array([0.9015748 , 0.87272727, 0.896     , 0.89980354, 0.87524752]),\n",
       " 'adab_clf + svc + xgb': array([0.90513834, 0.87323944, 0.89378758, 0.90410959, 0.87475149]),\n",
       " 'log_reg + rf_best + svc': array([0.90180361, 0.87346939, 0.89655172, 0.90373281, 0.872     ]),\n",
       " 'log_reg + rf_best + xgb': array([0.8972332 , 0.87626775, 0.89738431, 0.90019569, 0.87475149]),\n",
       " 'log_reg + svc + xgb': array([0.90180361, 0.87676768, 0.89655172, 0.90196078, 0.872     ]),\n",
       " 'rf_best + svc + xgb': array([0.8972332 , 0.87044534, 0.89738431, 0.90196078, 0.87475149]),\n",
       " 'adab_clf + log_reg + rf_best + svc + xgb': array([0.90079365, 0.87449393, 0.89516129, 0.89980354, 0.87250996])}"
      ]
     },
     "execution_count": 38,
     "metadata": {},
     "output_type": "execute_result"
    }
   ],
   "source": [
    "voting_perf_dict"
   ]
  },
  {
   "cell_type": "code",
   "execution_count": 40,
   "metadata": {},
   "outputs": [],
   "source": [
    "for key in voting_perf_dict.keys():\n",
    "    voting_perf_dict[key] = np.mean(voting_perf_dict[key])"
   ]
  },
  {
   "cell_type": "code",
   "execution_count": 41,
   "metadata": {},
   "outputs": [
    {
     "data": {
      "text/plain": [
       "{'adab_clf + log_reg + rf_best': 0.8882878354542969,\n",
       " 'adab_clf + log_reg + svc': 0.8884512914137137,\n",
       " 'adab_clf + log_reg + xgb': 0.89048647166856,\n",
       " 'adab_clf + rf_best + svc': 0.8863069657465171,\n",
       " 'adab_clf + rf_best + xgb': 0.8890706273950262,\n",
       " 'adab_clf + svc + xgb': 0.8902052863571482,\n",
       " 'log_reg + rf_best + svc': 0.8895115057075434,\n",
       " 'log_reg + rf_best + xgb': 0.889166488332932,\n",
       " 'log_reg + svc + xgb': 0.8898167584867525,\n",
       " 'rf_best + svc + xgb': 0.8883550253825991,\n",
       " 'adab_clf + log_reg + rf_best + svc + xgb': 0.8885524729493752}"
      ]
     },
     "execution_count": 41,
     "metadata": {},
     "output_type": "execute_result"
    }
   ],
   "source": [
    "voting_perf_dict"
   ]
  },
  {
   "cell_type": "markdown",
   "metadata": {},
   "source": [
    "# Stacking Classifier"
   ]
  },
  {
   "cell_type": "code",
   "execution_count": 43,
   "metadata": {},
   "outputs": [
    {
     "name": "stdout",
     "output_type": "stream",
     "text": [
      "26 combinations to go\n",
      "combination 1 is adab_clf + log_reg\n"
     ]
    },
    {
     "name": "stderr",
     "output_type": "stream",
     "text": [
      "[Parallel(n_jobs=-1)]: Using backend LokyBackend with 4 concurrent workers.\n",
      "[Parallel(n_jobs=-1)]: Done   5 out of   5 | elapsed:  3.4min finished\n",
      "[Parallel(n_jobs=-1)]: Using backend LokyBackend with 4 concurrent workers.\n"
     ]
    },
    {
     "name": "stdout",
     "output_type": "stream",
     "text": [
      "combination 2 is adab_clf + rf_best\n"
     ]
    },
    {
     "name": "stderr",
     "output_type": "stream",
     "text": [
      "[Parallel(n_jobs=-1)]: Done   5 out of   5 | elapsed:  6.9min finished\n",
      "[Parallel(n_jobs=-1)]: Using backend LokyBackend with 4 concurrent workers.\n"
     ]
    },
    {
     "name": "stdout",
     "output_type": "stream",
     "text": [
      "combination 3 is adab_clf + svc\n"
     ]
    },
    {
     "name": "stderr",
     "output_type": "stream",
     "text": [
      "[Parallel(n_jobs=-1)]: Done   5 out of   5 | elapsed:  3.4min finished\n",
      "[Parallel(n_jobs=-1)]: Using backend LokyBackend with 4 concurrent workers.\n"
     ]
    },
    {
     "name": "stdout",
     "output_type": "stream",
     "text": [
      "combination 4 is adab_clf + xgb\n"
     ]
    },
    {
     "name": "stderr",
     "output_type": "stream",
     "text": [
      "[Parallel(n_jobs=-1)]: Done   5 out of   5 | elapsed:  5.6min finished\n",
      "[Parallel(n_jobs=-1)]: Using backend LokyBackend with 4 concurrent workers.\n"
     ]
    },
    {
     "name": "stdout",
     "output_type": "stream",
     "text": [
      "combination 5 is log_reg + rf_best\n"
     ]
    },
    {
     "name": "stderr",
     "output_type": "stream",
     "text": [
      "[Parallel(n_jobs=-1)]: Done   5 out of   5 | elapsed:  3.5min finished\n",
      "[Parallel(n_jobs=-1)]: Using backend LokyBackend with 4 concurrent workers.\n"
     ]
    },
    {
     "name": "stdout",
     "output_type": "stream",
     "text": [
      "combination 6 is log_reg + svc\n"
     ]
    },
    {
     "name": "stderr",
     "output_type": "stream",
     "text": [
      "[Parallel(n_jobs=-1)]: Done   5 out of   5 | elapsed:    5.7s finished\n",
      "[Parallel(n_jobs=-1)]: Using backend LokyBackend with 4 concurrent workers.\n"
     ]
    },
    {
     "name": "stdout",
     "output_type": "stream",
     "text": [
      "combination 7 is log_reg + xgb\n"
     ]
    },
    {
     "name": "stderr",
     "output_type": "stream",
     "text": [
      "[Parallel(n_jobs=-1)]: Done   5 out of   5 | elapsed:  2.2min finished\n",
      "[Parallel(n_jobs=-1)]: Using backend LokyBackend with 4 concurrent workers.\n"
     ]
    },
    {
     "name": "stdout",
     "output_type": "stream",
     "text": [
      "combination 8 is rf_best + svc\n"
     ]
    },
    {
     "name": "stderr",
     "output_type": "stream",
     "text": [
      "[Parallel(n_jobs=-1)]: Done   5 out of   5 | elapsed:  3.5min finished\n",
      "[Parallel(n_jobs=-1)]: Using backend LokyBackend with 4 concurrent workers.\n"
     ]
    },
    {
     "name": "stdout",
     "output_type": "stream",
     "text": [
      "combination 9 is rf_best + xgb\n"
     ]
    },
    {
     "name": "stderr",
     "output_type": "stream",
     "text": [
      "[Parallel(n_jobs=-1)]: Done   5 out of   5 | elapsed:  5.6min finished\n",
      "[Parallel(n_jobs=-1)]: Using backend LokyBackend with 4 concurrent workers.\n"
     ]
    },
    {
     "name": "stdout",
     "output_type": "stream",
     "text": [
      "combination 10 is svc + xgb\n"
     ]
    },
    {
     "name": "stderr",
     "output_type": "stream",
     "text": [
      "[Parallel(n_jobs=-1)]: Done   5 out of   5 | elapsed:  2.3min finished\n",
      "[Parallel(n_jobs=-1)]: Using backend LokyBackend with 4 concurrent workers.\n"
     ]
    },
    {
     "name": "stdout",
     "output_type": "stream",
     "text": [
      "combination 11 is adab_clf + log_reg + rf_best\n"
     ]
    },
    {
     "name": "stderr",
     "output_type": "stream",
     "text": [
      "[Parallel(n_jobs=-1)]: Done   5 out of   5 | elapsed:  7.0min finished\n",
      "[Parallel(n_jobs=-1)]: Using backend LokyBackend with 4 concurrent workers.\n"
     ]
    },
    {
     "name": "stdout",
     "output_type": "stream",
     "text": [
      "combination 12 is adab_clf + log_reg + svc\n"
     ]
    },
    {
     "name": "stderr",
     "output_type": "stream",
     "text": [
      "[Parallel(n_jobs=-1)]: Done   5 out of   5 | elapsed:  3.5min finished\n",
      "[Parallel(n_jobs=-1)]: Using backend LokyBackend with 4 concurrent workers.\n"
     ]
    },
    {
     "name": "stdout",
     "output_type": "stream",
     "text": [
      "combination 13 is adab_clf + log_reg + xgb\n"
     ]
    },
    {
     "name": "stderr",
     "output_type": "stream",
     "text": [
      "[Parallel(n_jobs=-1)]: Done   5 out of   5 | elapsed:  5.6min finished\n",
      "[Parallel(n_jobs=-1)]: Using backend LokyBackend with 4 concurrent workers.\n"
     ]
    },
    {
     "name": "stdout",
     "output_type": "stream",
     "text": [
      "combination 14 is adab_clf + rf_best + svc\n"
     ]
    },
    {
     "name": "stderr",
     "output_type": "stream",
     "text": [
      "[Parallel(n_jobs=-1)]: Done   5 out of   5 | elapsed:  6.9min finished\n",
      "[Parallel(n_jobs=-1)]: Using backend LokyBackend with 4 concurrent workers.\n"
     ]
    },
    {
     "name": "stdout",
     "output_type": "stream",
     "text": [
      "combination 15 is adab_clf + rf_best + xgb\n"
     ]
    },
    {
     "name": "stderr",
     "output_type": "stream",
     "text": [
      "[Parallel(n_jobs=-1)]: Done   5 out of   5 | elapsed:  9.4min finished\n",
      "[Parallel(n_jobs=-1)]: Using backend LokyBackend with 4 concurrent workers.\n"
     ]
    },
    {
     "name": "stdout",
     "output_type": "stream",
     "text": [
      "combination 16 is adab_clf + svc + xgb\n"
     ]
    },
    {
     "name": "stderr",
     "output_type": "stream",
     "text": [
      "[Parallel(n_jobs=-1)]: Done   5 out of   5 | elapsed:  6.1min finished\n",
      "[Parallel(n_jobs=-1)]: Using backend LokyBackend with 4 concurrent workers.\n"
     ]
    },
    {
     "name": "stdout",
     "output_type": "stream",
     "text": [
      "combination 17 is log_reg + rf_best + svc\n"
     ]
    },
    {
     "name": "stderr",
     "output_type": "stream",
     "text": [
      "[Parallel(n_jobs=-1)]: Done   5 out of   5 | elapsed:  3.7min finished\n",
      "[Parallel(n_jobs=-1)]: Using backend LokyBackend with 4 concurrent workers.\n"
     ]
    },
    {
     "name": "stdout",
     "output_type": "stream",
     "text": [
      "combination 18 is log_reg + rf_best + xgb\n"
     ]
    },
    {
     "name": "stderr",
     "output_type": "stream",
     "text": [
      "[Parallel(n_jobs=-1)]: Done   5 out of   5 | elapsed:  6.0min finished\n",
      "[Parallel(n_jobs=-1)]: Using backend LokyBackend with 4 concurrent workers.\n"
     ]
    },
    {
     "name": "stdout",
     "output_type": "stream",
     "text": [
      "combination 19 is log_reg + svc + xgb\n"
     ]
    },
    {
     "name": "stderr",
     "output_type": "stream",
     "text": [
      "[Parallel(n_jobs=-1)]: Done   5 out of   5 | elapsed:  2.4min finished\n",
      "[Parallel(n_jobs=-1)]: Using backend LokyBackend with 4 concurrent workers.\n"
     ]
    },
    {
     "name": "stdout",
     "output_type": "stream",
     "text": [
      "combination 20 is rf_best + svc + xgb\n"
     ]
    },
    {
     "name": "stderr",
     "output_type": "stream",
     "text": [
      "[Parallel(n_jobs=-1)]: Done   5 out of   5 | elapsed:  6.2min finished\n",
      "[Parallel(n_jobs=-1)]: Using backend LokyBackend with 4 concurrent workers.\n"
     ]
    },
    {
     "name": "stdout",
     "output_type": "stream",
     "text": [
      "combination 21 is adab_clf + log_reg + rf_best + svc\n"
     ]
    },
    {
     "name": "stderr",
     "output_type": "stream",
     "text": [
      "[Parallel(n_jobs=-1)]: Done   5 out of   5 | elapsed:  7.3min finished\n",
      "[Parallel(n_jobs=-1)]: Using backend LokyBackend with 4 concurrent workers.\n"
     ]
    },
    {
     "name": "stdout",
     "output_type": "stream",
     "text": [
      "combination 22 is adab_clf + log_reg + rf_best + xgb\n"
     ]
    },
    {
     "name": "stderr",
     "output_type": "stream",
     "text": [
      "[Parallel(n_jobs=-1)]: Done   5 out of   5 | elapsed:  9.5min finished\n",
      "[Parallel(n_jobs=-1)]: Using backend LokyBackend with 4 concurrent workers.\n"
     ]
    },
    {
     "name": "stdout",
     "output_type": "stream",
     "text": [
      "combination 23 is adab_clf + log_reg + svc + xgb\n"
     ]
    },
    {
     "name": "stderr",
     "output_type": "stream",
     "text": [
      "[Parallel(n_jobs=-1)]: Done   5 out of   5 | elapsed:  6.1min finished\n",
      "[Parallel(n_jobs=-1)]: Using backend LokyBackend with 4 concurrent workers.\n"
     ]
    },
    {
     "name": "stdout",
     "output_type": "stream",
     "text": [
      "combination 24 is adab_clf + rf_best + svc + xgb\n"
     ]
    },
    {
     "name": "stderr",
     "output_type": "stream",
     "text": [
      "[Parallel(n_jobs=-1)]: Done   5 out of   5 | elapsed:  9.9min finished\n",
      "[Parallel(n_jobs=-1)]: Using backend LokyBackend with 4 concurrent workers.\n"
     ]
    },
    {
     "name": "stdout",
     "output_type": "stream",
     "text": [
      "combination 25 is log_reg + rf_best + svc + xgb\n"
     ]
    },
    {
     "name": "stderr",
     "output_type": "stream",
     "text": [
      "[Parallel(n_jobs=-1)]: Done   5 out of   5 | elapsed:  6.0min finished\n",
      "[Parallel(n_jobs=-1)]: Using backend LokyBackend with 4 concurrent workers.\n"
     ]
    },
    {
     "name": "stdout",
     "output_type": "stream",
     "text": [
      "combination 26 is adab_clf + log_reg + rf_best + svc + xgb\n"
     ]
    },
    {
     "name": "stderr",
     "output_type": "stream",
     "text": [
      "[Parallel(n_jobs=-1)]: Done   5 out of   5 | elapsed:  9.8min finished\n"
     ]
    }
   ],
   "source": [
    "from sklearn.ensemble import StackingClassifier\n",
    "\n",
    "estimators_combinations = []\n",
    "stacking_perf_dict = {}\n",
    "\n",
    "for nb_estimators in [2, 3, 4, 5]:\n",
    "    estimator_names = [list(i) for i in combinations(models.keys(), nb_estimators)]\n",
    "    estimators_combinations += [[(name, models[name]) for name in estimators_names_combination] for estimators_names_combination in estimator_names]\n",
    "    \n",
    "print(f'{len(estimators_combinations)} combinations to go')\n",
    "\n",
    "for i, combination in enumerate(estimators_combinations):\n",
    "    combination_names = \"\"\n",
    "    for name, _ in combination:\n",
    "        combination_names += f\"{name} + \"\n",
    "    combination_names = combination_names[:-3]\n",
    "    print(f'combination {i+1} is {combination_names}')\n",
    "    voting_clf = StackingClassifier(combination)\n",
    "    train_data = X_train_scaled\n",
    "    cv_scores = cross_validate(voting_clf, train_data, y_train, scoring=[\"f1\", \"accuracy\"], verbose=1, n_jobs=-1, cv=5)\n",
    "    stacking_perf_dict[combination_names] = np.mean(cv_scores['test_f1'])"
   ]
  },
  {
   "cell_type": "code",
   "execution_count": 44,
   "metadata": {},
   "outputs": [
    {
     "data": {
      "text/plain": [
       "{'adab_clf + log_reg': 0.882403703466452,\n",
       " 'adab_clf + rf_best': 0.8856326910908354,\n",
       " 'adab_clf + svc': 0.8838541904246288,\n",
       " 'adab_clf + xgb': 0.8863949654360166,\n",
       " 'log_reg + rf_best': 0.8832441939662494,\n",
       " 'log_reg + svc': 0.881914854267168,\n",
       " 'log_reg + xgb': 0.8885371170427085,\n",
       " 'rf_best + svc': 0.8833301471911014,\n",
       " 'rf_best + xgb': 0.8862320066473058,\n",
       " 'svc + xgb': 0.8868883572447643,\n",
       " 'adab_clf + log_reg + rf_best': 0.883595173891232,\n",
       " 'adab_clf + log_reg + svc': 0.8848273776121849,\n",
       " 'adab_clf + log_reg + xgb': 0.8847415232425506,\n",
       " 'adab_clf + rf_best + svc': 0.884270462568351,\n",
       " 'adab_clf + rf_best + xgb': 0.8856546793321112,\n",
       " 'adab_clf + svc + xgb': 0.8858265979440484,\n",
       " 'log_reg + rf_best + svc': 0.8835678562940773,\n",
       " 'log_reg + rf_best + xgb': 0.8861101919665675,\n",
       " 'log_reg + svc + xgb': 0.8868520093267145,\n",
       " 'rf_best + svc + xgb': 0.8857601666881573,\n",
       " 'adab_clf + log_reg + rf_best + svc': 0.8833800793572377,\n",
       " 'adab_clf + log_reg + rf_best + xgb': 0.8854010108203838,\n",
       " 'adab_clf + log_reg + svc + xgb': 0.8863905960145058,\n",
       " 'adab_clf + rf_best + svc + xgb': 0.884566062695758,\n",
       " 'log_reg + rf_best + svc + xgb': 0.8869236225917445,\n",
       " 'adab_clf + log_reg + rf_best + svc + xgb': 0.886214464519413}"
      ]
     },
     "execution_count": 44,
     "metadata": {},
     "output_type": "execute_result"
    }
   ],
   "source": [
    "stacking_perf_dict"
   ]
  },
  {
   "cell_type": "markdown",
   "metadata": {},
   "source": [
    "## None of the ensemble models have a better cross validation f1-score than the XGBoost model."
   ]
  },
  {
   "cell_type": "code",
   "execution_count": null,
   "metadata": {},
   "outputs": [],
   "source": []
  }
 ],
 "metadata": {
  "kernelspec": {
   "display_name": "Python 3",
   "language": "python",
   "name": "python3"
  },
  "language_info": {
   "codemirror_mode": {
    "name": "ipython",
    "version": 3
   },
   "file_extension": ".py",
   "mimetype": "text/x-python",
   "name": "python",
   "nbconvert_exporter": "python",
   "pygments_lexer": "ipython3",
   "version": "3.7.7"
  }
 },
 "nbformat": 4,
 "nbformat_minor": 4
}
